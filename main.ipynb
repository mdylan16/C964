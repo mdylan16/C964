{
 "cells": [
  {
   "cell_type": "code",
   "execution_count": 1,
   "id": "033a0ff5",
   "metadata": {},
   "outputs": [],
   "source": [
    "import pandas as pd\n",
    "import numpy as np\n",
    "from ipywidgets import *\n",
    "import ipywidgets as widgets\n",
    "import seaborn as sns\n",
    "import matplotlib.pyplot as plt\n",
    "from IPython.display import display, HTML\n",
    "import game_finder as gf\n",
    "import warnings\n",
    "warnings.filterwarnings('ignore')\n",
    "import re\n",
    "\n",
    "\n",
    "%matplotlib inline"
   ]
  },
  {
   "cell_type": "code",
   "execution_count": null,
   "id": "6234e1eb",
   "metadata": {},
   "outputs": [],
   "source": []
  },
  {
   "cell_type": "code",
   "execution_count": 2,
   "id": "4e6959e9",
   "metadata": {},
   "outputs": [],
   "source": [
    "game_recommender = gf.get_games\n",
    "scores = gf.turn_to_percent\n",
    "game_list = gf.all_games\n",
    "game_list = list(game_list['name'].apply(lambda x : x.lower()))\n",
    "user_search_list = []"
   ]
  },
  {
   "cell_type": "code",
   "execution_count": 3,
   "id": "b384770d",
   "metadata": {},
   "outputs": [],
   "source": [
    "for games in game_list:\n",
    "    games = str(games.lower())\n",
    "    user_search_list.append(games)"
   ]
  },
  {
   "cell_type": "code",
   "execution_count": 4,
   "id": "c1b332f0",
   "metadata": {},
   "outputs": [],
   "source": [
    "user_choice = widgets.Text(continuous_update = False, description='Game:')"
   ]
  },
  {
   "cell_type": "markdown",
   "id": "a76f85e7",
   "metadata": {},
   "source": [
    "<h1>GameTraders INC would like to help you find a new game to play. Whats the last game you enjoyed playing?</h1>"
   ]
  },
  {
   "cell_type": "code",
   "execution_count": 5,
   "id": "ba6c3ef1",
   "metadata": {},
   "outputs": [
    {
     "data": {
      "application/vnd.jupyter.widget-view+json": {
       "model_id": "1b736d3f0f214740927bdd46e4a2b7c6",
       "version_major": 2,
       "version_minor": 0
      },
      "text/plain": [
       "Text(value='', continuous_update=False, description='Game:')"
      ]
     },
     "metadata": {},
     "output_type": "display_data"
    }
   ],
   "source": [
    "display(user_choice)"
   ]
  },
  {
   "cell_type": "code",
   "execution_count": 6,
   "id": "6ebda98e",
   "metadata": {
    "scrolled": true
   },
   "outputs": [
    {
     "data": {
      "application/vnd.jupyter.widget-view+json": {
       "model_id": "51505371a7134c649ff18ab9e566ca7b",
       "version_major": 2,
       "version_minor": 0
      },
      "text/plain": [
       "Button(description='Submit', style=ButtonStyle())"
      ]
     },
     "metadata": {},
     "output_type": "display_data"
    },
    {
     "data": {
      "application/vnd.jupyter.widget-view+json": {
       "model_id": "c1297770aecf4587a5c5bd0a1e4d9999",
       "version_major": 2,
       "version_minor": 0
      },
      "text/plain": [
       "Output()"
      ]
     },
     "execution_count": 6,
     "metadata": {},
     "output_type": "execute_result"
    }
   ],
   "source": [
    "output = widgets.Output()\n",
    "submit_button = widgets.Button(description = \"Submit\")\n",
    "display(submit_button)\n",
    "\n",
    "@output.capture(clear_output=True,wait=True,)\n",
    "def on_button_clicked(b):\n",
    "    \n",
    "    pattern = re.compile(user_choice.value.lower())\n",
    "    matches = [game for game in user_search_list if pattern.match(game)]\n",
    "    \n",
    "        \n",
    "    if(len(matches) <= 1):\n",
    "        \n",
    "        if(user_choice.value.lower() in game_list ):\n",
    "            df = pd.DataFrame(game_recommender(user_choice.value.lower()))\n",
    "            sim_scores = scores(user_choice.value.lower())\n",
    "            df['Percent'] = scores(user_choice.value.lower())\n",
    "            df['Percent'] = df['Percent'].apply(lambda x: x*100)\n",
    "            df['Percent'] = df['Percent'].apply(lambda x: int(x))\n",
    "    \n",
    "            sim_matrix = np.matrix(sim_scores)\n",
    "    \n",
    "    \n",
    "            print('Here are the recommended titles for you!')\n",
    "    \n",
    "            display(df)\n",
    "    \n",
    "    \n",
    "            plt.figure(figsize=(20,8)) \n",
    "            sns.barplot(x = 'name', y = 'Percent',data = df) \n",
    "            plt.show()\n",
    "    \n",
    "            plt.figure(figsize=(20,8)) \n",
    "            sns.scatterplot(x = 'name', y = 'Percent',data = df) \n",
    "            plt.show()\n",
    "    \n",
    "            sns.heatmap(sim_matrix)\n",
    "            plt.show()\n",
    "        \n",
    "        else:\n",
    "            print('Sorry your game could not be found. Please try again!')\n",
    "        \n",
    "    else:\n",
    "        game_picker = widgets.Dropdown(options = matches)\n",
    "        display(game_picker)\n",
    "        print(game_picker.value)\n",
    "        \n",
    "        def game_picker_call(g):\n",
    "            user_choice = game_picker.value.lower()\n",
    "            \n",
    "            df = pd.DataFrame(game_recommender(user_choice))\n",
    "            sim_scores = scores(user_choice)\n",
    "            df['Percent'] = scores(user_choice)\n",
    "            df['Percent'] = df['Percent'].apply(lambda x: x*100)\n",
    "            df['Percent'] = df['Percent'].apply(lambda x: int(x))\n",
    "    \n",
    "            sim_matrix = np.matrix(sim_scores)\n",
    "    \n",
    "    \n",
    "            print('Looks like that exact game title could not be found. Will one of these work?')\n",
    "    \n",
    "            display(df)\n",
    "    \n",
    "    \n",
    "            plt.figure(figsize=(15,6)) \n",
    "            sns.barplot(x = 'name', y = 'Percent',data = df) \n",
    "            plt.show()\n",
    "    \n",
    "            plt.figure(figsize=(10,6)) \n",
    "            sns.scatterplot(x = 'name', y = 'Percent',data = df) \n",
    "            plt.show()\n",
    "    \n",
    "            sns.heatmap(sim_matrix)\n",
    "        \n",
    "        submit_button.on_click(game_picker_call)\n",
    "        \n",
    "         \n",
    "    \n",
    "\n",
    "submit_button.on_click(on_button_clicked)\n",
    "\n",
    "output"
   ]
  },
  {
   "cell_type": "code",
   "execution_count": null,
   "id": "4491ccc1",
   "metadata": {},
   "outputs": [],
   "source": []
  },
  {
   "cell_type": "code",
   "execution_count": null,
   "id": "ed0a34c8",
   "metadata": {},
   "outputs": [],
   "source": []
  },
  {
   "cell_type": "code",
   "execution_count": null,
   "id": "0f906520",
   "metadata": {},
   "outputs": [],
   "source": []
  }
 ],
 "metadata": {
  "kernelspec": {
   "display_name": "Python 3 (ipykernel)",
   "language": "python",
   "name": "python3"
  },
  "language_info": {
   "codemirror_mode": {
    "name": "ipython",
    "version": 3
   },
   "file_extension": ".py",
   "mimetype": "text/x-python",
   "name": "python",
   "nbconvert_exporter": "python",
   "pygments_lexer": "ipython3",
   "version": "3.11.5"
  }
 },
 "nbformat": 4,
 "nbformat_minor": 5
}
