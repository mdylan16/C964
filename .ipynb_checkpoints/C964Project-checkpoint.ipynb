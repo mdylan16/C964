{
 "cells": [
  {
   "cell_type": "code",
   "execution_count": 1,
   "id": "491686c0",
   "metadata": {},
   "outputs": [],
   "source": [
    "import pandas as pd\n",
    "import numpy as np\n",
    "from ipywidgets import interact,interactive, widgets\n",
    "import seaborn as sns\n",
    "import matplotlib.pyplot as plt\n",
    "from IPython.display import display\n",
    "\n",
    "\n",
    "\n",
    "%matplotlib inline"
   ]
  },
  {
   "cell_type": "code",
   "execution_count": null,
   "id": "7a8fe83e",
   "metadata": {},
   "outputs": [],
   "source": []
  },
  {
   "cell_type": "code",
   "execution_count": 2,
   "id": "127075d9",
   "metadata": {},
   "outputs": [],
   "source": [
    "## Call the CSV for the games dataframe"
   ]
  },
  {
   "cell_type": "code",
   "execution_count": 3,
   "id": "41772c7f",
   "metadata": {},
   "outputs": [],
   "source": [
    "all_games = pd.read_csv('df1_games.csv')"
   ]
  },
  {
   "cell_type": "code",
   "execution_count": 4,
   "id": "4a919273",
   "metadata": {},
   "outputs": [],
   "source": [
    "# Drop all the Empty Cells"
   ]
  },
  {
   "cell_type": "code",
   "execution_count": 5,
   "id": "5a3d77de",
   "metadata": {},
   "outputs": [],
   "source": [
    "all_games.dropna(inplace=True)"
   ]
  },
  {
   "cell_type": "code",
   "execution_count": 6,
   "id": "d68a19dc",
   "metadata": {},
   "outputs": [],
   "source": [
    "# Create new cell filled with genre and tag data"
   ]
  },
  {
   "cell_type": "code",
   "execution_count": 7,
   "id": "8bd2935d",
   "metadata": {},
   "outputs": [],
   "source": [
    "all_games['genre/tags'] = all_games[['genre','tags']].agg(''.join,axis=1)"
   ]
  },
  {
   "cell_type": "code",
   "execution_count": 8,
   "id": "ecbcf9c2",
   "metadata": {},
   "outputs": [],
   "source": [
    "# Filter out Scores below 65"
   ]
  },
  {
   "cell_type": "code",
   "execution_count": 9,
   "id": "fa26033f",
   "metadata": {},
   "outputs": [],
   "source": [
    "filtered_games = all_games[all_games['positive_rating'] >= 70].reset_index()"
   ]
  },
  {
   "cell_type": "code",
   "execution_count": 10,
   "id": "ba65cadf",
   "metadata": {},
   "outputs": [],
   "source": [
    "# Import CountVetorizer"
   ]
  },
  {
   "cell_type": "code",
   "execution_count": 11,
   "id": "191677c6",
   "metadata": {},
   "outputs": [],
   "source": [
    "from sklearn.feature_extraction.text import CountVectorizer"
   ]
  },
  {
   "cell_type": "code",
   "execution_count": 12,
   "id": "579a258b",
   "metadata": {},
   "outputs": [],
   "source": [
    "# Create instance of CountVectorizer and transorm data"
   ]
  },
  {
   "cell_type": "code",
   "execution_count": 13,
   "id": "94661a69",
   "metadata": {},
   "outputs": [],
   "source": [
    "cv = CountVectorizer()"
   ]
  },
  {
   "cell_type": "code",
   "execution_count": 14,
   "id": "5f5da7f3",
   "metadata": {},
   "outputs": [],
   "source": [
    "genre_matrix = cv.fit_transform(filtered_games['genre/tags'])"
   ]
  },
  {
   "cell_type": "code",
   "execution_count": 15,
   "id": "d566588e",
   "metadata": {},
   "outputs": [],
   "source": [
    "# Import cosine_similarity"
   ]
  },
  {
   "cell_type": "code",
   "execution_count": 16,
   "id": "cc648a13",
   "metadata": {},
   "outputs": [],
   "source": [
    "from sklearn.metrics.pairwise import cosine_similarity"
   ]
  },
  {
   "cell_type": "code",
   "execution_count": 17,
   "id": "ff5db72d",
   "metadata": {},
   "outputs": [],
   "source": [
    "# Create instance of cosine_similarity with data"
   ]
  },
  {
   "cell_type": "code",
   "execution_count": 36,
   "id": "17df9bfb",
   "metadata": {},
   "outputs": [],
   "source": [
    "genre_cosine = cosine_similarity(genre_matrix)"
   ]
  },
  {
   "cell_type": "code",
   "execution_count": 40,
   "id": "341e7cb2",
   "metadata": {},
   "outputs": [],
   "source": [
    "\n",
    "# Create text widget for output\n",
    "output_text = widgets.Text()"
   ]
  },
  {
   "cell_type": "code",
   "execution_count": null,
   "id": "862cc8db",
   "metadata": {},
   "outputs": [],
   "source": []
  },
  {
   "cell_type": "code",
   "execution_count": null,
   "id": "7cd30466",
   "metadata": {},
   "outputs": [],
   "source": [
    "# Create text widget for input\n",
    "input_text = widgets.Text()"
   ]
  },
  {
   "cell_type": "code",
   "execution_count": null,
   "id": "23eaa19d",
   "metadata": {},
   "outputs": [],
   "source": []
  },
  {
   "cell_type": "code",
   "execution_count": null,
   "id": "cb1c281f",
   "metadata": {},
   "outputs": [],
   "source": [
    "def bind_input_to_output(sender):\n",
    "    output_text.value = input_text.value"
   ]
  },
  {
   "cell_type": "code",
   "execution_count": 41,
   "id": "db02170f",
   "metadata": {},
   "outputs": [
    {
     "name": "stderr",
     "output_type": "stream",
     "text": [
      "C:\\Users\\dmeyers\\AppData\\Local\\Temp\\ipykernel_8840\\39157347.py:1: DeprecationWarning: on_submit is deprecated. Instead, set the .continuous_update attribute to False and observe the value changing with: mywidget.observe(callback, 'value').\n",
      "  input_text.on_submit(bind_input_to_output)\n"
     ]
    }
   ],
   "source": [
    "input_text.on_submit(bind_input_to_output)"
   ]
  },
  {
   "cell_type": "code",
   "execution_count": 42,
   "id": "8d0c3e80",
   "metadata": {},
   "outputs": [
    {
     "data": {
      "application/vnd.jupyter.widget-view+json": {
       "model_id": "801638e8f8e64a87836dce95991f443c",
       "version_major": 2,
       "version_minor": 0
      },
      "text/plain": [
       "Text(value='')"
      ]
     },
     "execution_count": 42,
     "metadata": {},
     "output_type": "execute_result"
    }
   ],
   "source": [
    "input_text"
   ]
  },
  {
   "cell_type": "code",
   "execution_count": 44,
   "id": "ce191a69",
   "metadata": {},
   "outputs": [
    {
     "data": {
      "application/vnd.jupyter.widget-view+json": {
       "model_id": "2fae4143f69042ebae6ab061c3d12cc3",
       "version_major": 2,
       "version_minor": 0
      },
      "text/plain": [
       "Text(value='')"
      ]
     },
     "execution_count": 44,
     "metadata": {},
     "output_type": "execute_result"
    }
   ],
   "source": [
    "output_text"
   ]
  },
  {
   "cell_type": "code",
   "execution_count": 51,
   "id": "f73e274d",
   "metadata": {},
   "outputs": [
    {
     "data": {
      "text/plain": [
       "'Resident evil 4'"
      ]
     },
     "execution_count": 51,
     "metadata": {},
     "output_type": "execute_result"
    }
   ],
   "source": [
    "output_text.value"
   ]
  },
  {
   "cell_type": "code",
   "execution_count": 56,
   "id": "fbbfe982",
   "metadata": {},
   "outputs": [],
   "source": [
    "user_choice = output_text.value.lower()"
   ]
  },
  {
   "cell_type": "code",
   "execution_count": 57,
   "id": "088773b6",
   "metadata": {},
   "outputs": [
    {
     "data": {
      "text/plain": [
       "'fallout 3'"
      ]
     },
     "execution_count": 57,
     "metadata": {},
     "output_type": "execute_result"
    }
   ],
   "source": [
    "user_choice"
   ]
  },
  {
   "cell_type": "code",
   "execution_count": null,
   "id": "02974e9a",
   "metadata": {},
   "outputs": [],
   "source": []
  },
  {
   "cell_type": "code",
   "execution_count": 19,
   "id": "e09c69a5",
   "metadata": {},
   "outputs": [],
   "source": [
    "# Create Function that lists the recommended games"
   ]
  },
  {
   "cell_type": "code",
   "execution_count": 20,
   "id": "bb0944cc",
   "metadata": {},
   "outputs": [],
   "source": [
    "\n",
    "\n",
    "def get_games(game):\n",
    "    idx = filtered_games[filtered_games['name'].apply(lambda x: x.lower()) == game].index[0]\n",
    "    sim_scores = list(enumerate(genre_cosine[idx]))\n",
    "    sim_scores = sorted(sim_scores, key=lambda x: x[1],reverse=True)\n",
    "    sim_scores = sim_scores[1:6]\n",
    "    get_games = [i[0] for i in sim_scores]\n",
    "    \n",
    "    \n",
    "    \n",
    "    return filtered_games['name'].iloc[get_games]\n",
    "\n",
    "\n",
    "\n",
    "\n",
    "\n"
   ]
  },
  {
   "cell_type": "code",
   "execution_count": null,
   "id": "083e6403",
   "metadata": {},
   "outputs": [],
   "source": []
  },
  {
   "cell_type": "code",
   "execution_count": 58,
   "id": "33a02a0b",
   "metadata": {},
   "outputs": [
    {
     "data": {
      "text/plain": [
       "1318                      Fallout: New Vegas\n",
       "957     Fallout 3 - Game of the Year Edition\n",
       "739              The Elder Scrolls V: Skyrim\n",
       "1736               S.T.A.L.K.E.R.: Clear Sky\n",
       "1529                      Mass Effect (2007)\n",
       "Name: name, dtype: object"
      ]
     },
     "execution_count": 58,
     "metadata": {},
     "output_type": "execute_result"
    }
   ],
   "source": [
    "get_games(user_choice)"
   ]
  },
  {
   "cell_type": "code",
   "execution_count": 53,
   "id": "48df4ec7",
   "metadata": {},
   "outputs": [
    {
     "data": {
      "text/plain": [
       "285     Resident Evil 0\n",
       "395       Resident Evil\n",
       "1710    Resident Evil 3\n",
       "197     The Evil Within\n",
       "32      Resident Evil 2\n",
       "Name: name, dtype: object"
      ]
     },
     "execution_count": 53,
     "metadata": {},
     "output_type": "execute_result"
    }
   ],
   "source": [
    "get_games('resident evil 4')"
   ]
  },
  {
   "cell_type": "code",
   "execution_count": null,
   "id": "7b63c91e",
   "metadata": {},
   "outputs": [],
   "source": []
  },
  {
   "cell_type": "code",
   "execution_count": null,
   "id": "2666eea8",
   "metadata": {},
   "outputs": [],
   "source": []
  },
  {
   "cell_type": "code",
   "execution_count": null,
   "id": "7110b20e",
   "metadata": {},
   "outputs": [],
   "source": []
  },
  {
   "cell_type": "code",
   "execution_count": 24,
   "id": "17747741",
   "metadata": {},
   "outputs": [],
   "source": [
    "def turn_to_percent(game):\n",
    "    idx = filtered_games[filtered_games['name'].apply(lambda x: x.lower()) == game].index[0]\n",
    "    sim_scores = list(enumerate(genre_cosine[idx]))\n",
    "    sim_scores = sorted(sim_scores, key=lambda x: x[1],reverse=True)\n",
    "    sim_scores = sim_scores[1:6]\n",
    "    \n",
    "    return sim_scores\n",
    "    "
   ]
  },
  {
   "cell_type": "code",
   "execution_count": null,
   "id": "0429b185",
   "metadata": {},
   "outputs": [],
   "source": []
  },
  {
   "cell_type": "code",
   "execution_count": 25,
   "id": "01ba3d1c",
   "metadata": {},
   "outputs": [
    {
     "data": {
      "text/plain": [
       "285     Resident Evil 0\n",
       "395       Resident Evil\n",
       "1710    Resident Evil 3\n",
       "197     The Evil Within\n",
       "32      Resident Evil 2\n",
       "Name: name, dtype: object"
      ]
     },
     "execution_count": 25,
     "metadata": {},
     "output_type": "execute_result"
    }
   ],
   "source": []
  },
  {
   "cell_type": "code",
   "execution_count": 55,
   "id": "194ec14c",
   "metadata": {},
   "outputs": [
    {
     "data": {
      "text/plain": [
       "[(285, 0.8260331876309022),\n",
       " (395, 0.7952384429746018),\n",
       " (1710, 0.7042147167923566),\n",
       " (197, 0.7008766440504625),\n",
       " (32, 0.6998542122237651)]"
      ]
     },
     "execution_count": 55,
     "metadata": {},
     "output_type": "execute_result"
    }
   ],
   "source": [
    "turn_to_percent(user_choice)"
   ]
  },
  {
   "cell_type": "code",
   "execution_count": null,
   "id": "3ceb521d",
   "metadata": {},
   "outputs": [],
   "source": []
  },
  {
   "cell_type": "code",
   "execution_count": null,
   "id": "0f987f16",
   "metadata": {},
   "outputs": [],
   "source": []
  },
  {
   "cell_type": "code",
   "execution_count": null,
   "id": "21ee5c91",
   "metadata": {},
   "outputs": [],
   "source": []
  },
  {
   "cell_type": "code",
   "execution_count": null,
   "id": "e107bad6",
   "metadata": {},
   "outputs": [],
   "source": []
  },
  {
   "cell_type": "code",
   "execution_count": null,
   "id": "2fde36e7",
   "metadata": {},
   "outputs": [],
   "source": []
  },
  {
   "cell_type": "markdown",
   "id": "1349a83f",
   "metadata": {},
   "source": [
    "df['Percent'] = df['Percent'].apply(lambda x: x*100)"
   ]
  },
  {
   "cell_type": "markdown",
   "id": "0f305cc5",
   "metadata": {},
   "source": [
    "df['Percent'] = df['Percent'].apply(lambda x: int(x))"
   ]
  },
  {
   "cell_type": "code",
   "execution_count": null,
   "id": "fbc850a9",
   "metadata": {},
   "outputs": [],
   "source": []
  },
  {
   "cell_type": "markdown",
   "id": "3130d511",
   "metadata": {},
   "source": [
    "print(\"Here are the games Similiar to \"+user_choice)\n",
    "plt.figure(figsize=(15,6))\n",
    "sns.barplot(x = 'name', y = 'Percent',data = df)\n",
    "plt.show()"
   ]
  },
  {
   "cell_type": "code",
   "execution_count": null,
   "id": "1d06e6d0",
   "metadata": {},
   "outputs": [],
   "source": []
  },
  {
   "cell_type": "markdown",
   "id": "67912fc5",
   "metadata": {},
   "source": [
    "print(\"Here are the games Similiar to \"+user_choice)\n",
    "plt.figure(figsize=(10,6))\n",
    "sns.scatterplot(x = 'name', y = 'Percent',data = df)\n",
    "plt.show()"
   ]
  },
  {
   "cell_type": "markdown",
   "id": "0a721cb0",
   "metadata": {},
   "source": [
    "sim_matrix = np.matrix(sim_scores)"
   ]
  },
  {
   "cell_type": "code",
   "execution_count": null,
   "id": "46cae8ce",
   "metadata": {},
   "outputs": [],
   "source": []
  },
  {
   "cell_type": "markdown",
   "id": "2db40edd",
   "metadata": {},
   "source": [
    "sns.heatmap(sim_matrix)"
   ]
  },
  {
   "cell_type": "code",
   "execution_count": null,
   "id": "2ab84087",
   "metadata": {},
   "outputs": [],
   "source": []
  }
 ],
 "metadata": {
  "kernelspec": {
   "display_name": "Python 3 (ipykernel)",
   "language": "python",
   "name": "python3"
  },
  "language_info": {
   "codemirror_mode": {
    "name": "ipython",
    "version": 3
   },
   "file_extension": ".py",
   "mimetype": "text/x-python",
   "name": "python",
   "nbconvert_exporter": "python",
   "pygments_lexer": "ipython3",
   "version": "3.11.5"
  }
 },
 "nbformat": 4,
 "nbformat_minor": 5
}
